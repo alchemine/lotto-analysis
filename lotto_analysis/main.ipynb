{
 "cells": [
  {
   "cell_type": "code",
   "execution_count": 1,
   "id": "2befe734",
   "metadata": {},
   "outputs": [],
   "source": [
    "import numpy as np\n",
    "import pandas as pd\n",
    "import matplotlib.pyplot as plt\n",
    "import seaborn as sns"
   ]
  },
  {
   "cell_type": "code",
   "execution_count": 11,
   "id": "89b597a7",
   "metadata": {},
   "outputs": [],
   "source": [
    "DATA_PATH = \"../lotto.xlsx\""
   ]
  },
  {
   "cell_type": "code",
   "execution_count": 16,
   "id": "966e3d2c",
   "metadata": {},
   "outputs": [],
   "source": [
    "data = pd.read_excel(DATA_PATH, header=[1, 2])"
   ]
  },
  {
   "cell_type": "code",
   "execution_count": 18,
   "id": "26fbc2a9",
   "metadata": {},
   "outputs": [
    {
     "data": {
      "text/html": [
       "<div>\n",
       "<style scoped>\n",
       "    .dataframe tbody tr th:only-of-type {\n",
       "        vertical-align: middle;\n",
       "    }\n",
       "\n",
       "    .dataframe tbody tr th {\n",
       "        vertical-align: top;\n",
       "    }\n",
       "\n",
       "    .dataframe thead tr th {\n",
       "        text-align: left;\n",
       "    }\n",
       "</style>\n",
       "<table border=\"1\" class=\"dataframe\">\n",
       "  <thead>\n",
       "    <tr>\n",
       "      <th></th>\n",
       "      <th>년도</th>\n",
       "      <th>회차</th>\n",
       "      <th>추첨일</th>\n",
       "      <th colspan=\"2\" halign=\"left\">1등</th>\n",
       "      <th colspan=\"2\" halign=\"left\">2등</th>\n",
       "      <th colspan=\"2\" halign=\"left\">3등</th>\n",
       "      <th colspan=\"2\" halign=\"left\">4등</th>\n",
       "      <th colspan=\"2\" halign=\"left\">5등</th>\n",
       "      <th colspan=\"7\" halign=\"left\">당첨번호</th>\n",
       "    </tr>\n",
       "    <tr>\n",
       "      <th></th>\n",
       "      <th>Unnamed: 0_level_1</th>\n",
       "      <th>Unnamed: 1_level_1</th>\n",
       "      <th>Unnamed: 2_level_1</th>\n",
       "      <th>당첨자수</th>\n",
       "      <th>당첨금액</th>\n",
       "      <th>당첨자수</th>\n",
       "      <th>당첨금액</th>\n",
       "      <th>당첨자수</th>\n",
       "      <th>당첨금액</th>\n",
       "      <th>당첨자수</th>\n",
       "      <th>당첨금액</th>\n",
       "      <th>당첨자수</th>\n",
       "      <th>당첨금액</th>\n",
       "      <th>1</th>\n",
       "      <th>2</th>\n",
       "      <th>3</th>\n",
       "      <th>4</th>\n",
       "      <th>5</th>\n",
       "      <th>6</th>\n",
       "      <th>보너스</th>\n",
       "    </tr>\n",
       "  </thead>\n",
       "  <tbody>\n",
       "    <tr>\n",
       "      <th>0</th>\n",
       "      <td>2023.0</td>\n",
       "      <td>1098</td>\n",
       "      <td>2023.12.16</td>\n",
       "      <td>13</td>\n",
       "      <td>1,930,461,895원</td>\n",
       "      <td>68</td>\n",
       "      <td>61,509,816원</td>\n",
       "      <td>2840</td>\n",
       "      <td>1,472,771원</td>\n",
       "      <td>138090</td>\n",
       "      <td>50,000원</td>\n",
       "      <td>2311866</td>\n",
       "      <td>5,000원</td>\n",
       "      <td>12</td>\n",
       "      <td>16</td>\n",
       "      <td>21</td>\n",
       "      <td>24</td>\n",
       "      <td>41</td>\n",
       "      <td>43</td>\n",
       "      <td>15</td>\n",
       "    </tr>\n",
       "    <tr>\n",
       "      <th>1</th>\n",
       "      <td>NaN</td>\n",
       "      <td>1097</td>\n",
       "      <td>2023.12.09</td>\n",
       "      <td>7</td>\n",
       "      <td>3,864,293,090원</td>\n",
       "      <td>67</td>\n",
       "      <td>67,288,686원</td>\n",
       "      <td>2631</td>\n",
       "      <td>1,713,547원</td>\n",
       "      <td>135670</td>\n",
       "      <td>50,000원</td>\n",
       "      <td>2317263</td>\n",
       "      <td>5,000원</td>\n",
       "      <td>14</td>\n",
       "      <td>33</td>\n",
       "      <td>34</td>\n",
       "      <td>35</td>\n",
       "      <td>37</td>\n",
       "      <td>40</td>\n",
       "      <td>4</td>\n",
       "    </tr>\n",
       "    <tr>\n",
       "      <th>2</th>\n",
       "      <td>NaN</td>\n",
       "      <td>1096</td>\n",
       "      <td>2023.12.02</td>\n",
       "      <td>10</td>\n",
       "      <td>2,539,391,175원</td>\n",
       "      <td>85</td>\n",
       "      <td>49,791,984원</td>\n",
       "      <td>2924</td>\n",
       "      <td>1,447,442원</td>\n",
       "      <td>141700</td>\n",
       "      <td>50,000원</td>\n",
       "      <td>2386598</td>\n",
       "      <td>5,000원</td>\n",
       "      <td>1</td>\n",
       "      <td>12</td>\n",
       "      <td>16</td>\n",
       "      <td>19</td>\n",
       "      <td>23</td>\n",
       "      <td>43</td>\n",
       "      <td>34</td>\n",
       "    </tr>\n",
       "    <tr>\n",
       "      <th>3</th>\n",
       "      <td>NaN</td>\n",
       "      <td>1095</td>\n",
       "      <td>2023.11.25</td>\n",
       "      <td>10</td>\n",
       "      <td>2,617,825,575원</td>\n",
       "      <td>57</td>\n",
       "      <td>76,544,608원</td>\n",
       "      <td>2584</td>\n",
       "      <td>1,688,484원</td>\n",
       "      <td>135653</td>\n",
       "      <td>50,000원</td>\n",
       "      <td>2278659</td>\n",
       "      <td>5,000원</td>\n",
       "      <td>8</td>\n",
       "      <td>14</td>\n",
       "      <td>28</td>\n",
       "      <td>29</td>\n",
       "      <td>34</td>\n",
       "      <td>40</td>\n",
       "      <td>12</td>\n",
       "    </tr>\n",
       "    <tr>\n",
       "      <th>4</th>\n",
       "      <td>NaN</td>\n",
       "      <td>1094</td>\n",
       "      <td>2023.11.18</td>\n",
       "      <td>12</td>\n",
       "      <td>2,112,854,469원</td>\n",
       "      <td>87</td>\n",
       "      <td>48,571,368원</td>\n",
       "      <td>2725</td>\n",
       "      <td>1,550,719원</td>\n",
       "      <td>136802</td>\n",
       "      <td>50,000원</td>\n",
       "      <td>2278728</td>\n",
       "      <td>5,000원</td>\n",
       "      <td>6</td>\n",
       "      <td>7</td>\n",
       "      <td>15</td>\n",
       "      <td>22</td>\n",
       "      <td>26</td>\n",
       "      <td>40</td>\n",
       "      <td>41</td>\n",
       "    </tr>\n",
       "  </tbody>\n",
       "</table>\n",
       "</div>"
      ],
      "text/plain": [
       "                  년도                 회차                추첨일   1등  \\\n",
       "  Unnamed: 0_level_1 Unnamed: 1_level_1 Unnamed: 2_level_1 당첨자수   \n",
       "0             2023.0               1098         2023.12.16   13   \n",
       "1                NaN               1097         2023.12.09    7   \n",
       "2                NaN               1096         2023.12.02   10   \n",
       "3                NaN               1095         2023.11.25   10   \n",
       "4                NaN               1094         2023.11.18   12   \n",
       "\n",
       "                    2등                 3등                  4등           \\\n",
       "             당첨금액 당첨자수         당첨금액  당첨자수        당첨금액    당첨자수     당첨금액   \n",
       "0  1,930,461,895원   68  61,509,816원  2840  1,472,771원  138090  50,000원   \n",
       "1  3,864,293,090원   67  67,288,686원  2631  1,713,547원  135670  50,000원   \n",
       "2  2,539,391,175원   85  49,791,984원  2924  1,447,442원  141700  50,000원   \n",
       "3  2,617,825,575원   57  76,544,608원  2584  1,688,484원  135653  50,000원   \n",
       "4  2,112,854,469원   87  48,571,368원  2725  1,550,719원  136802  50,000원   \n",
       "\n",
       "        5등         당첨번호                          \n",
       "      당첨자수    당첨금액    1   2   3   4   5   6 보너스  \n",
       "0  2311866  5,000원   12  16  21  24  41  43  15  \n",
       "1  2317263  5,000원   14  33  34  35  37  40   4  \n",
       "2  2386598  5,000원    1  12  16  19  23  43  34  \n",
       "3  2278659  5,000원    8  14  28  29  34  40  12  \n",
       "4  2278728  5,000원    6   7  15  22  26  40  41  "
      ]
     },
     "execution_count": 18,
     "metadata": {},
     "output_type": "execute_result"
    }
   ],
   "source": [
    "data.head()"
   ]
  },
  {
   "cell_type": "code",
   "execution_count": 23,
   "id": "7ba1cc26",
   "metadata": {},
   "outputs": [
    {
     "name": "stdout",
     "output_type": "stream",
     "text": [
      "총 횟수: 1098\n"
     ]
    }
   ],
   "source": [
    "N = len(data)\n",
    "print(f\"총 횟수: {N}\")"
   ]
  },
  {
   "cell_type": "code",
   "execution_count": 40,
   "id": "73c62680",
   "metadata": {},
   "outputs": [],
   "source": [
    "numbers = data['당첨번호'].values.flatten()"
   ]
  },
  {
   "cell_type": "code",
   "execution_count": 196,
   "id": "2ba65dfe",
   "metadata": {},
   "outputs": [
    {
     "data": {
      "text/plain": [
       "7686"
      ]
     },
     "execution_count": 196,
     "metadata": {},
     "output_type": "execute_result"
    }
   ],
   "source": [
    "counts.sum()"
   ]
  },
  {
   "cell_type": "code",
   "execution_count": 206,
   "id": "7c562a07",
   "metadata": {},
   "outputs": [
    {
     "name": "stderr",
     "output_type": "stream",
     "text": [
      "/tmp/ipykernel_164/3333748705.py:1: FutureWarning: pandas.value_counts is deprecated and will be removed in a future version. Use pd.Series(obj).value_counts() instead.\n",
      "  counts = pd.value_counts(numbers)\n"
     ]
    },
    {
     "data": {
      "text/plain": [
       "Text(0.5, 1.0, 'Historical frequency for numbers in Lotto (1st ~ 1098th, 7686 numbers)')"
      ]
     },
     "execution_count": 206,
     "metadata": {},
     "output_type": "execute_result"
    },
    {
     "data": {
      "image/png": "[encoded data removed]",
      "text/plain": [
       "<Figure size 2000x400 with 1 Axes>"
      ]
     },
     "metadata": {},
     "output_type": "display_data"
    }
   ],
   "source": [
    "counts = pd.value_counts(numbers)\n",
    "min_count = counts.values[-1]\n",
    "ax = (counts/min_count).plot.bar(figsize=(20, 4), xlabel='number', ylabel='probability')\n",
    "mean_proba = counts.sum()/45 / min_count\n",
    "ax.axhline(mean_proba, color='k', label=f'mean ({mean_proba:.3f})')\n",
    "ax.legend(loc='lower left')\n",
    "ax.grid(axis='y')\n",
    "ax.set_title(f\"Historical frequency for numbers in Lotto (1st ~ 1098th, {counts.sum()} numbers)\", fontweight='bold')"
   ]
  },
  {
   "cell_type": "markdown",
   "id": "d02f8477",
   "metadata": {},
   "source": [
    "## Random"
   ]
  },
  {
   "cell_type": "code",
   "execution_count": 89,
   "id": "8321573a",
   "metadata": {},
   "outputs": [
    {
     "data": {
      "text/plain": [
       "[[3, 14, 21, 25, 31, 32, 40],\n",
       " [2, 6, 15, 18, 20, 25, 29],\n",
       " [8, 18, 20, 22, 26, 33, 44],\n",
       " [8, 12, 15, 20, 23, 24, 45],\n",
       " [11, 22, 31, 32, 35, 38, 43]]"
      ]
     },
     "execution_count": 89,
     "metadata": {},
     "output_type": "execute_result"
    }
   ],
   "source": [
    "random = lambda: sorted(np.random.choice(np.arange(1, 46), size=7, replace=False))\n",
    "randoms = [random() for _ in range(5)]\n",
    "randoms"
   ]
  },
  {
   "cell_type": "markdown",
   "id": "d05e518a",
   "metadata": {},
   "source": [
    "# Most Commons"
   ]
  },
  {
   "cell_type": "code",
   "execution_count": 124,
   "id": "2185630c",
   "metadata": {},
   "outputs": [
    {
     "data": {
      "text/plain": [
       "[[1, 12, 17, 18, 27, 34, 43],\n",
       " [1, 12, 17, 18, 27, 33, 34],\n",
       " [1, 12, 13, 17, 18, 27, 33],\n",
       " [1, 13, 14, 17, 18, 27, 33],\n",
       " [1, 4, 13, 14, 17, 18, 33]]"
      ]
     },
     "execution_count": 124,
     "metadata": {},
     "output_type": "execute_result"
    }
   ],
   "source": [
    "most_common  = lambda n: sorted(counts.head(n)[-7:].index)\n",
    "most_commons = [most_common(n) for n in range(7, 7+5)]\n",
    "most_commons"
   ]
  },
  {
   "cell_type": "markdown",
   "id": "ccacb199",
   "metadata": {},
   "source": [
    "# Least Commons"
   ]
  },
  {
   "cell_type": "code",
   "execution_count": 118,
   "id": "e3bf156f",
   "metadata": {},
   "outputs": [
    {
     "data": {
      "text/plain": [
       "[[9, 22, 23, 25, 28, 29, 41],\n",
       " [22, 23, 25, 28, 29, 32, 41],\n",
       " [8, 23, 25, 28, 29, 32, 41],\n",
       " [5, 8, 23, 25, 28, 32, 41],\n",
       " [5, 8, 23, 25, 28, 32, 42]]"
      ]
     },
     "execution_count": 118,
     "metadata": {},
     "output_type": "execute_result"
    }
   ],
   "source": [
    "least_common  = lambda n: sorted(counts.tail(n)[:7].index)\n",
    "least_commons = [least_common(n) for n in range(7, 7+5)]\n",
    "least_commons"
   ]
  },
  {
   "cell_type": "markdown",
   "id": "005c934a",
   "metadata": {},
   "source": [
    "# Most Least Mixs"
   ]
  },
  {
   "cell_type": "code",
   "execution_count": 137,
   "id": "52e27ac3",
   "metadata": {},
   "outputs": [
    {
     "data": {
      "text/plain": [
       "[[9, 22, 23, 29, 34, 41, 43],\n",
       " [9, 12, 22, 29, 34, 41, 43],\n",
       " [9, 12, 22, 27, 29, 34, 43],\n",
       " [9, 12, 17, 22, 27, 34, 43],\n",
       " [9, 12, 17, 18, 27, 34, 43]]"
      ]
     },
     "execution_count": 137,
     "metadata": {},
     "output_type": "execute_result"
    }
   ],
   "source": [
    "most_least_mix  = lambda n: sorted(counts.head(7)[:n].index.append(counts.tail(7)[-(7-n):].index))\n",
    "most_least_mixs = [most_least_mix(n) for n in range(2, 7)]\n",
    "most_least_mixs"
   ]
  },
  {
   "cell_type": "code",
   "execution_count": null,
   "id": "59edb4ff",
   "metadata": {},
   "outputs": [],
   "source": [
    "무작위 숫자 모음\n",
    "[[3, 14, 21, 25, 31, 32, 40],\n",
    " [2, 6, 15, 18, 20, 25, 29],\n",
    " [8, 18, 20, 22, 26, 33, 44],\n",
    " [8, 12, 15, 20, 23, 24, 45],\n",
    " [11, 22, 31, 32, 35, 38, 43]]\n",
    "\n",
    "가장 많이 나온 숫자 모음\n",
    "[[1, 12, 17, 18, 27, 34, 43],\n",
    " [1, 12, 17, 18, 27, 33, 34],\n",
    " [1, 12, 13, 17, 18, 27, 33],\n",
    " [1, 13, 14, 17, 18, 27, 33],\n",
    " [1, 4, 13, 14, 17, 18, 33]]\n",
    "\n",
    "가장 적게 나온 숫자 모음\n",
    "[[9, 22, 23, 25, 28, 29, 41],\n",
    " [22, 23, 25, 28, 29, 32, 41],\n",
    " [8, 23, 25, 28, 29, 32, 41],\n",
    " [5, 8, 23, 25, 28, 32, 41],\n",
    " [5, 8, 23, 25, 28, 32, 42]]\n",
    "\n",
    "가장 많이 나온 숫자 + 가장 적게 나온 숫자 혼합 모음\n",
    "[[9, 22, 23, 29, 34, 41, 43],\n",
    " [9, 12, 22, 29, 34, 41, 43],\n",
    " [9, 12, 22, 27, 29, 34, 43],\n",
    " [9, 12, 17, 22, 27, 34, 43],\n",
    " [9, 12, 17, 18, 27, 34, 43]]"
   ]
  }
 ],
 "metadata": {
  "kernelspec": {
   "display_name": "Python 3 (ipykernel)",
   "language": "python",
   "name": "python3"
  },
  "language_info": {
   "codemirror_mode": {
    "name": "ipython",
    "version": 3
   },
   "file_extension": ".py",
   "mimetype": "text/x-python",
   "name": "python",
   "nbconvert_exporter": "python",
   "pygments_lexer": "ipython3",
   "version": "3.10.12"
  }
 },
 "nbformat": 4,
 "nbformat_minor": 5
}
